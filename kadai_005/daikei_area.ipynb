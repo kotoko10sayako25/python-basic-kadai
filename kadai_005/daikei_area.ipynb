{
  "nbformat": 4,
  "nbformat_minor": 0,
  "metadata": {
    "colab": {
      "provenance": []
    },
    "kernelspec": {
      "name": "python3",
      "display_name": "Python 3"
    },
    "language_info": {
      "name": "python"
    }
  },
  "cells": [
    {
      "cell_type": "code",
      "execution_count": 2,
      "metadata": {
        "colab": {
          "base_uri": "https://localhost:8080/"
        },
        "id": "zdkOzyiZF9G4",
        "outputId": "9ad395ea-5286-49f9-aaf3-82587f8c947c"
      },
      "outputs": [
        {
          "output_type": "stream",
          "name": "stdout",
          "text": [
            "台形の面積は75.0cm²です\n"
          ]
        }
      ],
      "source": [
        "top = 10\n",
        "bottom = 20\n",
        "high = 5\n",
        "area = (top + bottom) * high / 2\n",
        "\n",
        "print(f\"台形の面積は{area}cm²です\")"
      ]
    }
  ]
}