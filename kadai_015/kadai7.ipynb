{
  "nbformat": 4,
  "nbformat_minor": 0,
  "metadata": {
    "colab": {
      "provenance": []
    },
    "kernelspec": {
      "name": "python3",
      "display_name": "Python 3"
    },
    "language_info": {
      "name": "python"
    }
  },
  "cells": [
    {
      "cell_type": "code",
      "execution_count": 1,
      "metadata": {
        "colab": {
          "base_uri": "https://localhost:8080/"
        },
        "id": "J37h3iuL_Vk_",
        "outputId": "2cc56460-8d30-457c-f726-e6d243381bd4"
      },
      "outputs": [
        {
          "output_type": "stream",
          "name": "stdout",
          "text": [
            "侍太郎\n",
            "30\n"
          ]
        }
      ],
      "source": [
        "# クラスの定義\n",
        "class Human:\n",
        "    def __init__(self, name, age):\n",
        "        self.name = name\n",
        "        self.age = age\n",
        "\n",
        "    # メソッドを定義\n",
        "    def printinfo(self):\n",
        "        print(self.name)\n",
        "        print(self.age)\n",
        "\n",
        "#変数に代入して使う\n",
        "# 1.Humanクラスのインスタンスを、変数humanに代入して\n",
        "human = Human(\"侍太郎\",30)\n",
        "# 2.変数 human を使ってメソッド printinfo() を呼び出す\n",
        "human.printinfo()\n"
      ]
    }
  ]
}