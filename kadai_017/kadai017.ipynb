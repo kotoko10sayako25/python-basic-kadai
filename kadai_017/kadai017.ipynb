{
  "nbformat": 4,
  "nbformat_minor": 0,
  "metadata": {
    "colab": {
      "provenance": []
    },
    "kernelspec": {
      "name": "python3",
      "display_name": "Python 3"
    },
    "language_info": {
      "name": "python"
    }
  },
  "cells": [
    {
      "cell_type": "code",
      "execution_count": null,
      "metadata": {
        "id": "B7jQj8mMF6T9"
      },
      "outputs": [],
      "source": [
        "#kadai_017\n",
        "class Human:\n",
        "    def __init__(self,name,age):\n",
        "        self.name = name\n",
        "        self.age = age\n",
        "\n",
        "    # メソッドの定義\n",
        "    def check_adult(self) :\n",
        "            if self.age >= 20:\n",
        "                return(\"大人である\")\n",
        "            else:\n",
        "                return(\"大人でない\")\n",
        "\n",
        "# インスタンス化\n",
        "#human =  Human(\"侍太郎\", 19)\n",
        "human =  [ Human(\"侍太郎\", 19),\n",
        "           Human(\"侍一郎\", 20),\n",
        "           Human(\"侍二郎\", 21),\n",
        "           Human(\"侍三郎\", 18),\n",
        "           Human(\"侍四郎\", 30)]\n",
        "\n",
        "for person in human:\n",
        "    print(f\"{person.name}:{person.age}才は、{person.check_adult()}\")\n",
        "#リストから一人ずつ呼ぶ\n",
        "#check_adultを呼ぶ\n",
        "#一人ずつageをみて、20より上か下かみる"
      ]
    }
  ]
}