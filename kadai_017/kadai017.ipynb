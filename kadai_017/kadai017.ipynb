{
  "cells": [
    {
      "cell_type": "code",
      "execution_count": 1,
      "metadata": {
        "id": "B7jQj8mMF6T9"
      },
      "outputs": [
        {
          "name": "stdout",
          "output_type": "stream",
          "text": [
            "侍太郎:19才は、大人でない\n",
            "侍一郎:20才は、大人である\n",
            "侍二郎:21才は、大人である\n",
            "侍三郎:18才は、大人でない\n",
            "侍四郎:30才は、大人である\n"
          ]
        }
      ],
      "source": [
        "#kadai_017\n",
        "class Human:\n",
        "    def __init__(self,name,age):\n",
        "        self.name = name\n",
        "        self.age = age\n",
        "\n",
        "    # メソッドの定義\n",
        "    def check_adult(self) :\n",
        "            if self.age >= 20:\n",
        "                return(\"大人である\")\n",
        "            else:\n",
        "                return(\"大人でない\")\n",
        "\n",
        "# インスタンス化\n",
        "#human =  Human(\"侍太郎\", 19)\n",
        "human =  [ Human(\"侍太郎\", 19),\n",
        "           Human(\"侍一郎\", 20),\n",
        "           Human(\"侍二郎\", 21),\n",
        "           Human(\"侍三郎\", 18),\n",
        "           Human(\"侍四郎\", 30)]\n",
        "\n",
        "for person in human:\n",
        "    print(f\"{person.name}:{person.age}才は、{person.check_adult()}\")\n",
        "#リストから一人ずつ呼ぶ\n",
        "#check_adultを呼ぶ\n",
        "#一人ずつageをみて、20より上か下かみる"
      ]
    }
  ],
  "metadata": {
    "colab": {
      "provenance": []
    },
    "kernelspec": {
      "display_name": "Python 3",
      "name": "python3"
    },
    "language_info": {
      "codemirror_mode": {
        "name": "ipython",
        "version": 3
      },
      "file_extension": ".py",
      "mimetype": "text/x-python",
      "name": "python",
      "nbconvert_exporter": "python",
      "pygments_lexer": "ipython3",
      "version": "3.13.3"
    }
  },
  "nbformat": 4,
  "nbformat_minor": 0
}
