{
  "nbformat": 4,
  "nbformat_minor": 0,
  "metadata": {
    "colab": {
      "provenance": []
    },
    "kernelspec": {
      "name": "python3",
      "display_name": "Python 3"
    },
    "language_info": {
      "name": "python"
    }
  },
  "cells": [
    {
      "cell_type": "code",
      "execution_count": 28,
      "metadata": {
        "colab": {
          "base_uri": "https://localhost:8080/"
        },
        "id": "kNHTHGnC0u9Q",
        "outputId": "919133ed-244d-4d03-8745-6742e4c4c4c3"
      },
      "outputs": [
        {
          "output_type": "stream",
          "name": "stdout",
          "text": [
            "15\n",
            "FizzBuzz\n"
          ]
        }
      ],
      "source": [
        "import random\n",
        "var = random.randint(0,15)\n",
        "print(var)\n",
        "\n",
        "if var == 15:\n",
        "    print(\"FizzBuzz\")\n",
        "elif var == 3 or var == 6 or var == 9 or var == 12:\n",
        "  print(\"Fizz\")\n",
        "elif var == 5 or var == 10:\n",
        "    print(\"Buzz\")\n",
        "else:\n",
        "   print(var)"
      ]
    }
  ]
}