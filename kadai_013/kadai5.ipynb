{
  "nbformat": 4,
  "nbformat_minor": 0,
  "metadata": {
    "colab": {
      "provenance": []
    },
    "kernelspec": {
      "name": "python3",
      "display_name": "Python 3"
    },
    "language_info": {
      "name": "python"
    }
  },
  "cells": [
    {
      "cell_type": "code",
      "execution_count": 1,
      "metadata": {
        "colab": {
          "base_uri": "https://localhost:8080/"
        },
        "id": "gaRgDS0ge6hs",
        "outputId": "224f9533-50e6-4314-f1b4-e490725b81c9"
      },
      "outputs": [
        {
          "output_type": "stream",
          "name": "stdout",
          "text": [
            "121.00000000000001\n"
          ]
        }
      ],
      "source": [
        "#計算して、結果(戻り値)を返す関数を定義\n",
        "def calculation(item: int,tax: int) -> int:\n",
        "    total = item * (1 + tax / 100)\n",
        "    return total  #totalを下に返す\n",
        "\n",
        "#上で計算\n",
        "#下にその結果を返す\n",
        "\n",
        "# 戻り値を返す関数を使う\n",
        "print(calculation(110,10))\n"
      ]
    }
  ]
}